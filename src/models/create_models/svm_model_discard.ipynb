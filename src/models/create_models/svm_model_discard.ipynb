{
 "cells": [
  {
   "cell_type": "code",
   "execution_count": 19,
   "metadata": {},
   "outputs": [
    {
     "name": "stdout",
     "output_type": "stream",
     "text": [
      "Making sets 0\n",
      " working on anger\n",
      " working on contempt\n",
      " working on disgust\n",
      " working on fear\n",
      " working on happiness\n",
      " working on neutral\n",
      " working on sadness\n",
      " working on surprise\n",
      "training SVM linear 0\n"
     ]
    },
    {
     "name": "stderr",
     "output_type": "stream",
     "text": [
      "/Users/cmeaton/anaconda3/envs/affective_image/lib/python3.6/site-packages/sklearn/svm/base.py:196: FutureWarning: The default value of gamma will change from 'auto' to 'scale' in version 0.22 to account better for unscaled features. Set gamma explicitly to 'auto' or 'scale' to avoid this warning.\n",
      "  \"avoid this warning.\", FutureWarning)\n"
     ]
    },
    {
     "name": "stdout",
     "output_type": "stream",
     "text": [
      "getting accuracies 0\n",
      "linear: 0.8350515463917526\n",
      "Making sets 1\n",
      " working on anger\n",
      " working on contempt\n",
      " working on disgust\n",
      " working on fear\n",
      " working on happiness\n",
      " working on neutral\n",
      " working on sadness\n",
      " working on surprise\n",
      "training SVM linear 1\n"
     ]
    },
    {
     "name": "stderr",
     "output_type": "stream",
     "text": [
      "/Users/cmeaton/anaconda3/envs/affective_image/lib/python3.6/site-packages/sklearn/svm/base.py:196: FutureWarning: The default value of gamma will change from 'auto' to 'scale' in version 0.22 to account better for unscaled features. Set gamma explicitly to 'auto' or 'scale' to avoid this warning.\n",
      "  \"avoid this warning.\", FutureWarning)\n"
     ]
    },
    {
     "name": "stdout",
     "output_type": "stream",
     "text": [
      "getting accuracies 1\n",
      "linear: 0.8556701030927835\n",
      "Making sets 2\n",
      " working on anger\n",
      " working on contempt\n",
      " working on disgust\n",
      " working on fear\n",
      " working on happiness\n",
      " working on neutral\n",
      " working on sadness\n",
      " working on surprise\n",
      "training SVM linear 2\n"
     ]
    },
    {
     "name": "stderr",
     "output_type": "stream",
     "text": [
      "/Users/cmeaton/anaconda3/envs/affective_image/lib/python3.6/site-packages/sklearn/svm/base.py:196: FutureWarning: The default value of gamma will change from 'auto' to 'scale' in version 0.22 to account better for unscaled features. Set gamma explicitly to 'auto' or 'scale' to avoid this warning.\n",
      "  \"avoid this warning.\", FutureWarning)\n"
     ]
    },
    {
     "name": "stdout",
     "output_type": "stream",
     "text": [
      "getting accuracies 2\n",
      "linear: 0.8556701030927835\n",
      "Making sets 3\n",
      " working on anger\n",
      " working on contempt\n",
      " working on disgust\n",
      " working on fear\n",
      " working on happiness\n",
      " working on neutral\n",
      " working on sadness\n",
      " working on surprise\n",
      "training SVM linear 3\n"
     ]
    },
    {
     "name": "stderr",
     "output_type": "stream",
     "text": [
      "/Users/cmeaton/anaconda3/envs/affective_image/lib/python3.6/site-packages/sklearn/svm/base.py:196: FutureWarning: The default value of gamma will change from 'auto' to 'scale' in version 0.22 to account better for unscaled features. Set gamma explicitly to 'auto' or 'scale' to avoid this warning.\n",
      "  \"avoid this warning.\", FutureWarning)\n"
     ]
    },
    {
     "name": "stdout",
     "output_type": "stream",
     "text": [
      "getting accuracies 3\n",
      "linear: 0.8144329896907216\n",
      "Making sets 4\n",
      " working on anger\n",
      " working on contempt\n",
      " working on disgust\n",
      " working on fear\n",
      " working on happiness\n",
      " working on neutral\n",
      " working on sadness\n",
      " working on surprise\n",
      "training SVM linear 4\n"
     ]
    },
    {
     "name": "stderr",
     "output_type": "stream",
     "text": [
      "/Users/cmeaton/anaconda3/envs/affective_image/lib/python3.6/site-packages/sklearn/svm/base.py:196: FutureWarning: The default value of gamma will change from 'auto' to 'scale' in version 0.22 to account better for unscaled features. Set gamma explicitly to 'auto' or 'scale' to avoid this warning.\n",
      "  \"avoid this warning.\", FutureWarning)\n"
     ]
    },
    {
     "name": "stdout",
     "output_type": "stream",
     "text": [
      "getting accuracies 4\n",
      "linear: 0.7835051546391752\n",
      "Making sets 5\n",
      " working on anger\n",
      " working on contempt\n",
      " working on disgust\n",
      " working on fear\n",
      " working on happiness\n",
      " working on neutral\n",
      " working on sadness\n",
      " working on surprise\n",
      "training SVM linear 5\n"
     ]
    },
    {
     "name": "stderr",
     "output_type": "stream",
     "text": [
      "/Users/cmeaton/anaconda3/envs/affective_image/lib/python3.6/site-packages/sklearn/svm/base.py:196: FutureWarning: The default value of gamma will change from 'auto' to 'scale' in version 0.22 to account better for unscaled features. Set gamma explicitly to 'auto' or 'scale' to avoid this warning.\n",
      "  \"avoid this warning.\", FutureWarning)\n"
     ]
    },
    {
     "name": "stdout",
     "output_type": "stream",
     "text": [
      "getting accuracies 5\n",
      "linear: 0.8144329896907216\n",
      "Making sets 6\n",
      " working on anger\n",
      " working on contempt\n",
      " working on disgust\n",
      " working on fear\n",
      " working on happiness\n",
      " working on neutral\n",
      " working on sadness\n",
      " working on surprise\n",
      "training SVM linear 6\n"
     ]
    },
    {
     "name": "stderr",
     "output_type": "stream",
     "text": [
      "/Users/cmeaton/anaconda3/envs/affective_image/lib/python3.6/site-packages/sklearn/svm/base.py:196: FutureWarning: The default value of gamma will change from 'auto' to 'scale' in version 0.22 to account better for unscaled features. Set gamma explicitly to 'auto' or 'scale' to avoid this warning.\n",
      "  \"avoid this warning.\", FutureWarning)\n"
     ]
    },
    {
     "name": "stdout",
     "output_type": "stream",
     "text": [
      "getting accuracies 6\n",
      "linear: 0.8041237113402062\n",
      "Making sets 7\n",
      " working on anger\n",
      " working on contempt\n",
      " working on disgust\n",
      " working on fear\n",
      " working on happiness\n",
      " working on neutral\n",
      " working on sadness\n",
      " working on surprise\n",
      "training SVM linear 7\n"
     ]
    },
    {
     "name": "stderr",
     "output_type": "stream",
     "text": [
      "/Users/cmeaton/anaconda3/envs/affective_image/lib/python3.6/site-packages/sklearn/svm/base.py:196: FutureWarning: The default value of gamma will change from 'auto' to 'scale' in version 0.22 to account better for unscaled features. Set gamma explicitly to 'auto' or 'scale' to avoid this warning.\n",
      "  \"avoid this warning.\", FutureWarning)\n"
     ]
    },
    {
     "name": "stdout",
     "output_type": "stream",
     "text": [
      "getting accuracies 7\n",
      "linear: 0.8762886597938144\n",
      "Making sets 8\n",
      " working on anger\n",
      " working on contempt\n",
      " working on disgust\n",
      " working on fear\n",
      " working on happiness\n",
      " working on neutral\n",
      " working on sadness\n",
      " working on surprise\n",
      "training SVM linear 8\n"
     ]
    },
    {
     "name": "stderr",
     "output_type": "stream",
     "text": [
      "/Users/cmeaton/anaconda3/envs/affective_image/lib/python3.6/site-packages/sklearn/svm/base.py:196: FutureWarning: The default value of gamma will change from 'auto' to 'scale' in version 0.22 to account better for unscaled features. Set gamma explicitly to 'auto' or 'scale' to avoid this warning.\n",
      "  \"avoid this warning.\", FutureWarning)\n"
     ]
    },
    {
     "name": "stdout",
     "output_type": "stream",
     "text": [
      "getting accuracies 8\n",
      "linear: 0.8041237113402062\n",
      "Making sets 9\n",
      " working on anger\n",
      " working on contempt\n",
      " working on disgust\n",
      " working on fear\n",
      " working on happiness\n",
      " working on neutral\n",
      " working on sadness\n",
      " working on surprise\n",
      "training SVM linear 9\n"
     ]
    },
    {
     "name": "stderr",
     "output_type": "stream",
     "text": [
      "/Users/cmeaton/anaconda3/envs/affective_image/lib/python3.6/site-packages/sklearn/svm/base.py:196: FutureWarning: The default value of gamma will change from 'auto' to 'scale' in version 0.22 to account better for unscaled features. Set gamma explicitly to 'auto' or 'scale' to avoid this warning.\n",
      "  \"avoid this warning.\", FutureWarning)\n"
     ]
    },
    {
     "name": "stdout",
     "output_type": "stream",
     "text": [
      "getting accuracies 9\n",
      "linear: 0.8041237113402062\n",
      "Mean value lin svm: 0.8247422680412371\n"
     ]
    }
   ],
   "source": [
    "import cv2\n",
    "import glob\n",
    "import random\n",
    "import math\n",
    "import numpy as np\n",
    "import dlib\n",
    "import itertools\n",
    "from sklearn.svm import SVC\n",
    "import pickle\n",
    "\n",
    "\n",
    "emotions = [\"anger\", \"contempt\", \"disgust\", \"fear\", \"happiness\", \"neutral\", \"sadness\", \"surprise\"] #Emotion list\n",
    "clahe = cv2.createCLAHE(clipLimit=2.0, tileGridSize=(8,8))\n",
    "detector = dlib.get_frontal_face_detector()\n",
    "predictor = dlib.shape_predictor(\"/Users/cmeaton/Documents/code/ds/METIS/sea19_ds7_workingdir/project_5/src/models/saved_models/face_algorithms/shape_predictor_68_face_landmarks.dat\")\n",
    "clf = SVC(kernel='linear', probability=True, tol=1e-3)#, verbose = True) #Set the classifier as a support vector machines with polynomial kernel\n",
    "clf_1 = SVC(kernel='poly', probability=True, tol=1e-3)#, verbose = True) #Set the classifier as a support vector machines with polynomial kernel\n",
    "\n",
    "data = {} #Make dictionary for all values\n",
    "#data['landmarks_vectorised'] = []\n",
    "\n",
    "\n",
    "def get_files(emotion):    \n",
    "    '''Define function to get file list, randomly shuffle it and split 80/20'''\n",
    "    \n",
    "    \n",
    "    files = glob.glob(\"data_set/%s/*\" %emotion)\n",
    "    random.shuffle(files)\n",
    "    training = files[:int(len(files)*0.8)] #get first 80% of file list\n",
    "    prediction = files[-int(len(files)*0.2):] #get last 20% of file list\n",
    "    return training, prediction\n",
    "\n",
    "def get_landmarks(image):\n",
    "    '''This function locates facial landmarks and computes the relative distance from the mean for each point.'''\n",
    "    \n",
    "    detections = detector(image, 1)\n",
    "    for k,d in enumerate(detections): #For all detected face instances individually\n",
    "        shape = predictor(image, d) #Draw Facial Landmarks with the predictor class\n",
    "        xlist = []\n",
    "        ylist = []\n",
    "        for i in range(1,68): #Store X and Y coordinates in two lists\n",
    "            xlist.append(float(shape.part(i).x))\n",
    "            ylist.append(float(shape.part(i).y))\n",
    "        xmean = np.mean(xlist)\n",
    "        ymean = np.mean(ylist)\n",
    "        xcentral = [(x-xmean) for x in xlist]\n",
    "        ycentral = [(y-ymean) for y in ylist]\n",
    "        landmarks_vectorised = []\n",
    "        for x, y, w, z in zip(xcentral, ycentral, xlist, ylist):\n",
    "            landmarks_vectorised.append(w)\n",
    "            landmarks_vectorised.append(z)\n",
    "            meannp = np.asarray((ymean,xmean))\n",
    "            coornp = np.asarray((z,w))\n",
    "            dist = np.linalg.norm(coornp-meannp)\n",
    "            landmarks_vectorised.append(dist)\n",
    "            landmarks_vectorised.append((math.atan2(y, x)*360)/(2*math.pi))\n",
    "        data['landmarks_vectorised'] = landmarks_vectorised\n",
    "    if len(detections) < 1:\n",
    "        data['landmarks_vestorised'] = \"error\"\n",
    "\n",
    "def make_sets():\n",
    "    '''This function creates test/train data and labels.'''\n",
    "    \n",
    "    training_data = []\n",
    "    training_labels = []\n",
    "    prediction_data = []\n",
    "    prediction_labels = []\n",
    "    for emotion in emotions:\n",
    "        print(\" working on %s\" %emotion)\n",
    "        training, prediction = get_files(emotion)\n",
    "        #Append data to training and prediction list, and generate labels 0-7\n",
    "        for item in training:\n",
    "            image = cv2.imread(item) #open image\n",
    "            gray = cv2.cvtColor(image, cv2.COLOR_BGR2GRAY) #convert to grayscale\n",
    "            clahe_image = clahe.apply(gray)\n",
    "            get_landmarks(clahe_image)\n",
    "            if data['landmarks_vectorised'] == \"error\":\n",
    "                print(\"no face detected on this one\")\n",
    "            else:\n",
    "                training_data.append(data['landmarks_vectorised']) #append image array to training data list\n",
    "                training_labels.append(emotions.index(emotion))\n",
    "        for item in prediction:\n",
    "            image = cv2.imread(item)\n",
    "            gray = cv2.cvtColor(image, cv2.COLOR_BGR2GRAY)\n",
    "            clahe_image = clahe.apply(gray)\n",
    "            get_landmarks(clahe_image)\n",
    "            if data['landmarks_vectorised'] == \"error\":\n",
    "                print(\"no face detected on this one\")\n",
    "            else:\n",
    "                prediction_data.append(data['landmarks_vectorised'])\n",
    "                prediction_labels.append(emotions.index(emotion))\n",
    "    return training_data, training_labels, prediction_data, prediction_labels\n",
    "\n",
    "\n",
    "accur_lin = []\n",
    "for i in range(0,10):\n",
    "    print(\"Making sets %s\" %i) #Make sets by random sampling 80/20%\n",
    "    training_data, training_labels, prediction_data, prediction_labels = make_sets()\n",
    "    npar_train = np.array(training_data) #Turn the training set into a numpy array for the classifier\n",
    "    npar_trainlabs = np.array(training_labels)\n",
    "    print(\"training SVM linear %s\" %i) #train SVM\n",
    "    clf_1.fit(npar_train, training_labels)\n",
    "    print(\"getting accuracies %s\" %i) #Use score() function to get accuracy\n",
    "    npar_pred = np.array(prediction_data)\n",
    "    pred_lin = clf_1.score(npar_pred, prediction_labels)\n",
    "    print(f\"linear: {pred_lin}\")\n",
    "    accur_lin.append(pred_lin) #Store accuracy in a list\n",
    "print(\"Mean value lin svm: %s\" %np.mean(accur_lin)) #FGet mean accuracy of the 10 runs\n",
    "\n",
    "# filename = 'lin_svm_model_means.sav'\n",
    "# pickle.dump(clf, open(filename, 'wb'))"
   ]
  },
  {
   "cell_type": "code",
   "execution_count": 1,
   "metadata": {},
   "outputs": [],
   "source": [
    "import pickle"
   ]
  },
  {
   "cell_type": "code",
   "execution_count": 18,
   "metadata": {},
   "outputs": [
    {
     "name": "stdout",
     "output_type": "stream",
     "text": [
      "\u001b[30m\u001b[43mEmotion\u001b[m\u001b[m/        \u001b[1m\u001b[34mdata_set\u001b[m\u001b[m/       \u001b[1m\u001b[34msource_emotion\u001b[m\u001b[m/ \u001b[1m\u001b[34mtest\u001b[m\u001b[m/\r\n",
      "\u001b[30m\u001b[43mFACS\u001b[m\u001b[m/           \u001b[1m\u001b[34msorted_set\u001b[m\u001b[m/     \u001b[1m\u001b[34msource_images\u001b[m\u001b[m/  \u001b[1m\u001b[34mtrain\u001b[m\u001b[m/\r\n"
     ]
    }
   ],
   "source": [
    "ls"
   ]
  },
  {
   "cell_type": "code",
   "execution_count": 10,
   "metadata": {},
   "outputs": [],
   "source": [
    "filename = 'lin_svm_model.sav'\n",
    "loaded = pickle.load(open(filename, 'rb'))"
   ]
  },
  {
   "cell_type": "code",
   "execution_count": 11,
   "metadata": {},
   "outputs": [
    {
     "data": {
      "text/plain": [
       "SVC(C=1.0, cache_size=200, class_weight=None, coef0=0.0,\n",
       "  decision_function_shape='ovr', degree=3, gamma='auto_deprecated',\n",
       "  kernel='linear', max_iter=-1, probability=True, random_state=None,\n",
       "  shrinking=True, tol=0.001, verbose=False)"
      ]
     },
     "execution_count": 11,
     "metadata": {},
     "output_type": "execute_result"
    }
   ],
   "source": [
    "loaded"
   ]
  },
  {
   "cell_type": "code",
   "execution_count": null,
   "metadata": {},
   "outputs": [],
   "source": []
  }
 ],
 "metadata": {
  "kernelspec": {
   "display_name": "Python 3",
   "language": "python",
   "name": "python3"
  },
  "language_info": {
   "codemirror_mode": {
    "name": "ipython",
    "version": 3
   },
   "file_extension": ".py",
   "mimetype": "text/x-python",
   "name": "python",
   "nbconvert_exporter": "python",
   "pygments_lexer": "ipython3",
   "version": "3.6.5"
  }
 },
 "nbformat": 4,
 "nbformat_minor": 2
}
