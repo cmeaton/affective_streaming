{
 "cells": [
  {
   "cell_type": "code",
   "execution_count": 1,
   "metadata": {
    "scrolled": true
   },
   "outputs": [
    {
     "name": "stderr",
     "output_type": "stream",
     "text": [
      "Using TensorFlow backend.\n"
     ]
    }
   ],
   "source": [
    "from keras.preprocessing.image import load_img\n",
    "from keras.models import load_model\n",
    "import cv2\n",
    "import numpy as np\n",
    "\n",
    "model_path = '/Users/cmeaton/Documents/code/ds/METIS/sea19_ds7_workingdir/project_5/src/models/best.h5'\n",
    "model = load_model(model_path)\n",
    "casc_path = '/Users/cmeaton/Documents/code/opencv/data/haarcascades/haarcascade_frontalface_alt.xml'\n",
    "faceCascade = cv2.CascadeClassifier(casc_path)\n",
    "\n"
   ]
  },
  {
   "cell_type": "code",
   "execution_count": null,
   "metadata": {},
   "outputs": [],
   "source": [
    "# load an image from file\n",
    "image = load_img('/Users/cmeaton/Documents/code/ds/METIS/sea19_ds7_workingdir/project_5/data/external/download_2.jpg'\n",
    ", target_size=(224, 224))"
   ]
  },
  {
   "cell_type": "code",
   "execution_count": null,
   "metadata": {},
   "outputs": [],
   "source": [
    "image"
   ]
  },
  {
   "cell_type": "code",
   "execution_count": null,
   "metadata": {},
   "outputs": [],
   "source": [
    "\n",
    "from keras.preprocessing.image import img_to_array\n",
    "# convert the image pixels to a numpy array\n",
    "image = img_to_array(image)\n",
    "\n",
    "from keras.preprocessing.image import img_to_array\n",
    "# convert the image pixels to a numpy array\n",
    "image = img_to_array(image)\n",
    "\n",
    "# reshape data for the model\n",
    "image = image.reshape((1, image.shape[0], image.shape[1], image.shape[2]))\n",
    "\n",
    "from keras.applications.vgg16 import preprocess_input\n",
    "# prepare the image for the VGG model\n",
    "image = preprocess_input(image)"
   ]
  },
  {
   "cell_type": "code",
   "execution_count": null,
   "metadata": {},
   "outputs": [],
   "source": [
    "yhat = model.predict(image)"
   ]
  },
  {
   "cell_type": "code",
   "execution_count": null,
   "metadata": {},
   "outputs": [],
   "source": [
    "yhat"
   ]
  },
  {
   "cell_type": "code",
   "execution_count": null,
   "metadata": {},
   "outputs": [],
   "source": [
    "y_classes = yhat.argmax(axis=-1)\n",
    "y_classes"
   ]
  },
  {
   "cell_type": "code",
   "execution_count": 2,
   "metadata": {},
   "outputs": [],
   "source": [
    "def crop_face(imgarray, section, margin=40, size=64):\n",
    "    \"\"\"\n",
    "    :param imgarray: full image\n",
    "    :param section: face detected area (x, y, w, h)\n",
    "    :param margin: add some margin to the face detected area to include a full head\n",
    "    :param size: the result image resolution with be (size x size)\n",
    "    :return: resized image in numpy array with shape (size x size x 3)\n",
    "    \"\"\"\n",
    "    img_h, img_w, _ = imgarray.shape\n",
    "    if section is None:\n",
    "        section = [0, 0, img_w, img_h]\n",
    "    (x, y, w, h) = section\n",
    "    margin = int(min(w,h) * margin / 100)\n",
    "    x_a = x - margin\n",
    "    y_a = y - margin\n",
    "    x_b = x + w + margin\n",
    "    y_b = y + h + margin\n",
    "    if x_a < 0:\n",
    "        x_b = min(x_b - x_a, img_w-1)\n",
    "        x_a = 0\n",
    "    if y_a < 0:\n",
    "        y_b = min(y_b - y_a, img_h-1)\n",
    "        y_a = 0\n",
    "    if x_b > img_w:\n",
    "        x_a = max(x_a - (x_b - img_w), 0)\n",
    "        x_b = img_w\n",
    "    if y_b > img_h:\n",
    "        y_a = max(y_a - (y_b - img_h), 0)\n",
    "        y_b = img_h\n",
    "    cropped = imgarray[y_a: y_b, x_a: x_b]\n",
    "    resized_img = cv2.resize(cropped, (size, size), interpolation=cv2.INTER_AREA)\n",
    "    resized_img = np.array(resized_img)\n",
    "    return resized_img, (x_a, y_a, x_b - x_a, y_b - y_a)"
   ]
  },
  {
   "cell_type": "code",
   "execution_count": null,
   "metadata": {},
   "outputs": [],
   "source": []
  }
 ],
 "metadata": {
  "kernelspec": {
   "display_name": "Python 3",
   "language": "python",
   "name": "python3"
  },
  "language_info": {
   "codemirror_mode": {
    "name": "ipython",
    "version": 3
   },
   "file_extension": ".py",
   "mimetype": "text/x-python",
   "name": "python",
   "nbconvert_exporter": "python",
   "pygments_lexer": "ipython3",
   "version": "3.6.5"
  }
 },
 "nbformat": 4,
 "nbformat_minor": 2
}
