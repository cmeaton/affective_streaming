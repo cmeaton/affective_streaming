{
 "cells": [
  {
   "cell_type": "code",
   "execution_count": 1,
   "metadata": {
    "scrolled": true
   },
   "outputs": [
    {
     "name": "stderr",
     "output_type": "stream",
     "text": [
      "Using TensorFlow backend.\n"
     ]
    }
   ],
   "source": [
    "from keras.preprocessing.image import load_img\n",
    "from keras.models import load_model\n",
    "import cv2\n",
    "import numpy as np\n",
    "\n",
    "model_path = '/Users/cmeaton/Documents/code/ds/METIS/sea19_ds7_workingdir/project_5/src/models/best.h5'\n",
    "model = load_model(model_path)\n",
    "casc_path = '/Users/cmeaton/Documents/code/opencv/data/haarcascades/haarcascade_frontalface_alt.xml'\n",
    "faceCascade = cv2.CascadeClassifier(casc_path)\n",
    "\n"
   ]
  },
  {
   "cell_type": "code",
   "execution_count": null,
   "metadata": {},
   "outputs": [],
   "source": [
    "# load an image from file\n",
    "image = load_img('/Users/cmeaton/Documents/code/ds/METIS/sea19_ds7_workingdir/project_5/data/external/download_2.jpg'\n",
    ", target_size=(224, 224))"
   ]
  },
  {
   "cell_type": "code",
   "execution_count": null,
   "metadata": {},
   "outputs": [],
   "source": [
    "image"
   ]
  },
  {
   "cell_type": "code",
   "execution_count": null,
   "metadata": {},
   "outputs": [],
   "source": [
    "\n",
    "from keras.preprocessing.image import img_to_array\n",
    "# convert the image pixels to a numpy array\n",
    "image = img_to_array(image)\n",
    "\n",
    "from keras.preprocessing.image import img_to_array\n",
    "# convert the image pixels to a numpy array\n",
    "image = img_to_array(image)\n",
    "\n",
    "# reshape data for the model\n",
    "image = image.reshape((1, image.shape[0], image.shape[1], image.shape[2]))\n",
    "\n",
    "from keras.applications.vgg16 import preprocess_input\n",
    "# prepare the image for the VGG model\n",
    "image = preprocess_input(image)"
   ]
  },
  {
   "cell_type": "code",
   "execution_count": null,
   "metadata": {},
   "outputs": [],
   "source": [
    "yhat = model.predict(image)"
   ]
  },
  {
   "cell_type": "code",
   "execution_count": null,
   "metadata": {},
   "outputs": [],
   "source": [
    "yhat"
   ]
  },
  {
   "cell_type": "code",
   "execution_count": null,
   "metadata": {},
   "outputs": [],
   "source": [
    "y_classes = yhat.argmax(axis=-1)\n",
    "y_classes"
   ]
  },
  {
   "cell_type": "code",
   "execution_count": 2,
   "metadata": {},
   "outputs": [],
   "source": [
    "def crop_face(imgarray, section, margin=40, size=64):\n",
    "    \"\"\"\n",
    "    :param imgarray: full image\n",
    "    :param section: face detected area (x, y, w, h)\n",
    "    :param margin: add some margin to the face detected area to include a full head\n",
    "    :param size: the result image resolution with be (size x size)\n",
    "    :return: resized image in numpy array with shape (size x size x 3)\n",
    "    \"\"\"\n",
    "    img_h, img_w, _ = imgarray.shape\n",
    "    if section is None:\n",
    "        section = [0, 0, img_w, img_h]\n",
    "    (x, y, w, h) = section\n",
    "    margin = int(min(w,h) * margin / 100)\n",
    "    x_a = x - margin\n",
    "    y_a = y - margin\n",
    "    x_b = x + w + margin\n",
    "    y_b = y + h + margin\n",
    "    if x_a < 0:\n",
    "        x_b = min(x_b - x_a, img_w-1)\n",
    "        x_a = 0\n",
    "    if y_a < 0:\n",
    "        y_b = min(y_b - y_a, img_h-1)\n",
    "        y_a = 0\n",
    "    if x_b > img_w:\n",
    "        x_a = max(x_a - (x_b - img_w), 0)\n",
    "        x_b = img_w\n",
    "    if y_b > img_h:\n",
    "        y_a = max(y_a - (y_b - img_h), 0)\n",
    "        y_b = img_h\n",
    "    cropped = imgarray[y_a: y_b, x_a: x_b]\n",
    "    resized_img = cv2.resize(cropped, (size, size), interpolation=cv2.INTER_AREA)\n",
    "    resized_img = np.array(resized_img)\n",
    "    return resized_img, (x_a, y_a, x_b - x_a, y_b - y_a)"
   ]
  },
  {
   "cell_type": "code",
   "execution_count": 3,
   "metadata": {},
   "outputs": [
    {
     "ename": "KeyboardInterrupt",
     "evalue": "",
     "output_type": "error",
     "traceback": [
      "\u001b[0;31m---------------------------------------------------------------------------\u001b[0m",
      "\u001b[0;31mKeyboardInterrupt\u001b[0m                         Traceback (most recent call last)",
      "\u001b[0;32m<ipython-input-3-e18e9cacf122>\u001b[0m in \u001b[0;36m<module>\u001b[0;34m\u001b[0m\n\u001b[1;32m      3\u001b[0m \u001b[0;32mwhile\u001b[0m \u001b[0;32mTrue\u001b[0m\u001b[0;34m:\u001b[0m\u001b[0;34m\u001b[0m\u001b[0;34m\u001b[0m\u001b[0m\n\u001b[1;32m      4\u001b[0m     \u001b[0;31m# Capture frame-by-frame\u001b[0m\u001b[0;34m\u001b[0m\u001b[0;34m\u001b[0m\u001b[0;34m\u001b[0m\u001b[0m\n\u001b[0;32m----> 5\u001b[0;31m     \u001b[0mret\u001b[0m\u001b[0;34m,\u001b[0m \u001b[0mframe\u001b[0m \u001b[0;34m=\u001b[0m \u001b[0mvideo_capture\u001b[0m\u001b[0;34m.\u001b[0m\u001b[0mread\u001b[0m\u001b[0;34m(\u001b[0m\u001b[0;34m)\u001b[0m\u001b[0;34m\u001b[0m\u001b[0;34m\u001b[0m\u001b[0m\n\u001b[0m\u001b[1;32m      6\u001b[0m \u001b[0;34m\u001b[0m\u001b[0m\n\u001b[1;32m      7\u001b[0m     \u001b[0mgray\u001b[0m \u001b[0;34m=\u001b[0m \u001b[0mcv2\u001b[0m\u001b[0;34m.\u001b[0m\u001b[0mcvtColor\u001b[0m\u001b[0;34m(\u001b[0m\u001b[0mframe\u001b[0m\u001b[0;34m,\u001b[0m \u001b[0mcv2\u001b[0m\u001b[0;34m.\u001b[0m\u001b[0mCOLOR_BGR2GRAY\u001b[0m\u001b[0;34m)\u001b[0m\u001b[0;34m\u001b[0m\u001b[0;34m\u001b[0m\u001b[0m\n",
      "\u001b[0;31mKeyboardInterrupt\u001b[0m: "
     ]
    }
   ],
   "source": [
    "video_capture = cv2.VideoCapture(0)\n",
    "\n",
    "while True:\n",
    "    # Capture frame-by-frame\n",
    "    ret, frame = video_capture.read()\n",
    "\n",
    "    gray = cv2.cvtColor(frame, cv2.COLOR_BGR2GRAY)\n",
    "\n",
    "    faces = faceCascade.detectMultiScale(\n",
    "        gray,\n",
    "        scaleFactor=1.1,\n",
    "        minNeighbors=5,\n",
    "        minSize=(224, 224),\n",
    "   )\n",
    "\n",
    "    \n",
    "    face_imgs = np.empty((len(faces), 224, 224, 3))\n",
    "# #     face_imgs = np.empty((len(faces), 7, 7, 512))\n",
    "   \n",
    "    for i, face in enumerate(faces):\n",
    "        face_img, cropped = crop_face(frame, face, margin=40, size=224)\n",
    "        (x, y, w, h) = cropped\n",
    "#         cv2.rectangle(frame, (x, y), (x + w, y + h), (255, 200, 0), 2) \n",
    "        cv2.rectangle(frame, (x, y), (x + w, y + h), (224, 224, 3), 2) \n",
    "\n",
    "        face_imgs[i,:,:,:] = face_img\n",
    "    if len(face_imgs) > 0:\n",
    "        # predict ages and genders of the detected faces\n",
    "        results = model.predict(face_imgs)\n",
    "\n",
    "\n",
    "        font                   = cv2.FONT_HERSHEY_SIMPLEX\n",
    "        bottomLeftCornerOfText = (10,500)\n",
    "        fontScale              = 1\n",
    "        fontColor              = (255,255,255)\n",
    "        lineType               = 2\n",
    "\n",
    "        cv2.putText(frame, f'{results}', \n",
    "            bottomLeftCornerOfText, \n",
    "            font, \n",
    "            fontScale,\n",
    "            fontColor,\n",
    "            lineType)\n",
    "\n",
    "    \n",
    "#    cv2.imshow('Keras Faces', frame)\n",
    "    cv2.imshow('Keras Faces', frame)\n",
    "\n",
    "    if cv2.waitKey(1) & 0xFF == ord('q'):\n",
    "        break\n",
    "\n",
    "# When everything is done, release the capture\n",
    "video_capture.release()\n",
    "cv2.destroyAllWindows()"
   ]
  },
  {
   "cell_type": "code",
   "execution_count": null,
   "metadata": {},
   "outputs": [],
   "source": []
  }
 ],
 "metadata": {
  "kernelspec": {
   "display_name": "Python 3",
   "language": "python",
   "name": "python3"
  },
  "language_info": {
   "codemirror_mode": {
    "name": "ipython",
    "version": 3
   },
   "file_extension": ".py",
   "mimetype": "text/x-python",
   "name": "python",
   "nbconvert_exporter": "python",
   "pygments_lexer": "ipython3",
   "version": "3.6.7"
  }
 },
 "nbformat": 4,
 "nbformat_minor": 2
}
